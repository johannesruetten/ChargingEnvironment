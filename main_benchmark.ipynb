{
 "cells": [
  {
   "cell_type": "code",
   "execution_count": null,
   "metadata": {},
   "outputs": [],
   "source": [
    "import cvxpy as cvx\n",
    "import numpy as np\n",
    "import mosek\n",
    "from envs.custom_env_dir.data_handler import DataHandler\n",
    "from envs.custom_env_dir.conv_optim import ConvOptim\n",
    "import gym\n",
    "import os\n",
    "\n",
    "\n",
    "if __name__ == '__main__':\n",
    "    \n",
    "    # Get current working directory to store the results\n",
    "    cwd = os.getcwd()\n",
    "    store_dir = cwd\n",
    "    \n",
    "    ''' SELECT ONE OF THE FOLLOWING THREE OPTIONS'''\n",
    "    # Select true to obtain theoretical limit on Test or Development set\n",
    "    benchmark = False\n",
    "    # Select true to compile a labeled training dataset\n",
    "    supervised_training_set = False\n",
    "    # Select true to compile a labeled test dataset\n",
    "    supervised_test_set = False\n",
    "    \n",
    "    ''' SET TRUE IF YOU WANT TO USE THE DEV SET INSTEAD OF THE TEST SET FOR A BENCHMARK OR TO COMPILE A LABELED DATASET'''\n",
    "    development=False\n",
    "\n",
    "    ''' NO ADJUSTMENTS REQUIRED FROM HERE ''' \n",
    "    # Load train, test and dev set\n",
    "    train_collection, dev_collection, test_collection, train_count, dev_count, test_count, full_collection = DataHandler().get_data_7d_3split(include_weekends=True, \\\n",
    "                                                                                   n_episodes = 450, start_year=2018, start_month=10, start_day=1)\n",
    "    \n",
    "    # Pass on the selected dataset to the optimizer\n",
    "    if development:\n",
    "        game_collection = dev_collection\n",
    "    elif supervised_test_set or benchmark:\n",
    "        game_collection = test_collection\n",
    "    elif supervised_training_set:\n",
    "        game_collection = train_collection\n",
    "    \n",
    "    if not (development or supervised_training_set or supervised_test_set):\n",
    "        print('Select either one of: benchmark / supervised_training_set / supervised_test_set')\n",
    "    else:      \n",
    "        # Run optimization on the selected dataset\n",
    "        ConvOptim().run_optimizer(store_dir, benchmark, supervised_training_set, game_collection, supervised_test_set, development)"
   ]
  }
 ],
 "metadata": {
  "kernelspec": {
   "display_name": "Python 3",
   "language": "python",
   "name": "python3"
  },
  "language_info": {
   "codemirror_mode": {
    "name": "ipython",
    "version": 3
   },
   "file_extension": ".py",
   "mimetype": "text/x-python",
   "name": "python",
   "nbconvert_exporter": "python",
   "pygments_lexer": "ipython3",
   "version": "3.6.10"
  }
 },
 "nbformat": 4,
 "nbformat_minor": 4
}
